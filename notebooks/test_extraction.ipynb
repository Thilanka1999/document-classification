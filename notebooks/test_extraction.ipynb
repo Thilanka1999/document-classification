{
  "cells": [
    {
      "cell_type": "raw",
      "metadata": {
        "vscode": {
          "languageId": "raw"
        }
      },
      "source": [
        "# Testing Document Data Extraction\n",
        "\n",
        "This notebook demonstrates how to test the data extraction functionality for different document types.\n"
      ]
    },
    {
      "cell_type": "raw",
      "metadata": {
        "vscode": {
          "languageId": "raw"
        }
      },
      "source": [
        "## Setup and Imports\n"
      ]
    },
    {
      "cell_type": "code",
      "execution_count": null,
      "metadata": {},
      "outputs": [],
      "source": [
        "import os\n",
        "import sys\n",
        "import cv2\n",
        "import numpy as np\n",
        "import matplotlib.pyplot as plt\n",
        "from PIL import Image\n",
        "import json\n",
        "\n",
        "# Add project root directory to path\n",
        "sys.path.append('..')\n",
        "\n",
        "# Import project modules\n",
        "from models.extractor import DocumentExtractor\n",
        "from utils.preprocess import process_image_for_ocr\n",
        "from utils.visualize import highlight_regions, format_extracted_data\n"
      ]
    },
    {
      "cell_type": "raw",
      "metadata": {
        "vscode": {
          "languageId": "raw"
        }
      },
      "source": [
        "## Initialize Extractor\n",
        "\n",
        "Initialize the document extractor with different OCR engines.\n"
      ]
    },
    {
      "cell_type": "code",
      "execution_count": null,
      "metadata": {},
      "outputs": [],
      "source": [
        "# Initialize document extractor with Tesseract OCR\n",
        "tesseract_extractor = DocumentExtractor(ocr_engine='tesseract')\n",
        "\n",
        "# Initialize document extractor with EasyOCR (uncomment if needed)\n",
        "# easyocr_extractor = DocumentExtractor(ocr_engine='easyocr')\n"
      ]
    },
    {
      "cell_type": "raw",
      "metadata": {
        "vscode": {
          "languageId": "raw"
        }
      },
      "source": [
        "## Test With Invoice\n"
      ]
    },
    {
      "cell_type": "code",
      "execution_count": null,
      "metadata": {},
      "outputs": [],
      "source": [
        "# Path to sample invoice\n",
        "invoice_path = '../data/examples/sample_invoice.jpg'\n",
        "\n",
        "# Check if file exists\n",
        "if os.path.exists(invoice_path):\n",
        "    # Load image\n",
        "    invoice_image = Image.open(invoice_path)\n",
        "    \n",
        "    # Display original image\n",
        "    plt.figure(figsize=(10, 10))\n",
        "    plt.imshow(invoice_image)\n",
        "    plt.title('Sample Invoice')\n",
        "    plt.axis('off')\n",
        "    plt.show()\n",
        "    \n",
        "    # Extract information from invoice\n",
        "    invoice_info = tesseract_extractor.extract_info(invoice_image, 'invoice')\n",
        "    \n",
        "    # Print extracted information\n",
        "    print(\"Extracted Information from Invoice:\")\n",
        "    print(json.dumps(invoice_info, indent=4))\n",
        "    \n",
        "    # Detect text regions\n",
        "    invoice_np = np.array(invoice_image)\n",
        "    text_regions = tesseract_extractor.get_text_regions(invoice_np)\n",
        "    \n",
        "    # Highlight text regions\n",
        "    highlighted = highlight_regions(invoice_np, text_regions)\n",
        "    \n",
        "    # Display highlighted image\n",
        "    plt.figure(figsize=(10, 10))\n",
        "    plt.imshow(cv2.cvtColor(highlighted, cv2.COLOR_BGR2RGB))\n",
        "    plt.title('Detected Text Regions')\n",
        "    plt.axis('off')\n",
        "    plt.show()\n",
        "else:\n",
        "    print(f\"Sample invoice not found at '{invoice_path}'. Please add a sample invoice for testing.\")\n"
      ]
    },
    {
      "cell_type": "raw",
      "metadata": {
        "vscode": {
          "languageId": "raw"
        }
      },
      "source": [
        "## Test With Resume\n"
      ]
    },
    {
      "cell_type": "code",
      "execution_count": null,
      "metadata": {},
      "outputs": [],
      "source": [
        "# Path to sample resume\n",
        "resume_path = '../data/examples/sample_resume.jpg'\n",
        "\n",
        "# Check if file exists\n",
        "if os.path.exists(resume_path):\n",
        "    # Load image\n",
        "    resume_image = Image.open(resume_path)\n",
        "    \n",
        "    # Display original image\n",
        "    plt.figure(figsize=(10, 10))\n",
        "    plt.imshow(resume_image)\n",
        "    plt.title('Sample Resume')\n",
        "    plt.axis('off')\n",
        "    plt.show()\n",
        "    \n",
        "    # Extract information from resume\n",
        "    resume_info = tesseract_extractor.extract_info(resume_image, 'resume')\n",
        "    \n",
        "    # Print extracted information\n",
        "    print(\"Extracted Information from Resume:\")\n",
        "    print(json.dumps(resume_info, indent=4))\n",
        "else:\n",
        "    print(f\"Sample resume not found at '{resume_path}'. Please add a sample resume for testing.\")\n"
      ]
    },
    {
      "cell_type": "raw",
      "metadata": {
        "vscode": {
          "languageId": "raw"
        }
      },
      "source": [
        "## Test With Receipt\n"
      ]
    },
    {
      "cell_type": "code",
      "execution_count": null,
      "metadata": {},
      "outputs": [],
      "source": [
        "# Path to sample receipt\n",
        "receipt_path = '../data/examples/sample_receipt.jpg'\n",
        "\n",
        "# Check if file exists\n",
        "if os.path.exists(receipt_path):\n",
        "    # Load image\n",
        "    receipt_image = Image.open(receipt_path)\n",
        "    \n",
        "    # Display original image\n",
        "    plt.figure(figsize=(10, 10))\n",
        "    plt.imshow(receipt_image)\n",
        "    plt.title('Sample Receipt')\n",
        "    plt.axis('off')\n",
        "    plt.show()\n",
        "    \n",
        "    # Extract information from receipt\n",
        "    receipt_info = tesseract_extractor.extract_info(receipt_image, 'receipt')\n",
        "    \n",
        "    # Print extracted information\n",
        "    print(\"Extracted Information from Receipt:\")\n",
        "    print(json.dumps(receipt_info, indent=4))\n",
        "else:\n",
        "    print(f\"Sample receipt not found at '{receipt_path}'. Please add a sample receipt for testing.\")\n"
      ]
    },
    {
      "cell_type": "raw",
      "metadata": {
        "vscode": {
          "languageId": "raw"
        }
      },
      "source": [
        "## Creating Custom Extraction Rules\n"
      ]
    },
    {
      "cell_type": "code",
      "execution_count": null,
      "metadata": {},
      "outputs": [],
      "source": [
        "# Create custom extraction rules for invoice\n",
        "invoice_rules = {\n",
        "    'invoice_number': {\n",
        "        'type': 'regex',\n",
        "        'pattern': r'Invoice\\s*#?:?\\s*([A-Z0-9-]+)',\n",
        "        'first_match_only': True\n",
        "    },\n",
        "    'date': {\n",
        "        'type': 'regex',\n",
        "        'pattern': r'Date:?\\s*(\\d{1,2}[/-]\\d{1,2}[/-]\\d{2,4})',\n",
        "        'first_match_only': True\n",
        "    },\n",
        "    'total_amount': {\n",
        "        'type': 'regex',\n",
        "        'pattern': r'Total:?\\s*\\$?(\\d+\\.\\d{2})',\n",
        "        'first_match_only': True\n",
        "    }\n",
        "}\n",
        "\n",
        "# Test custom extraction rules if invoice image exists\n",
        "if os.path.exists(invoice_path):\n",
        "    # Extract information using custom rules\n",
        "    custom_info = tesseract_extractor.custom_extract(invoice_image, 'invoice', invoice_rules)\n",
        "    \n",
        "    # Print extracted information\n",
        "    print(\"Information extracted with custom rules:\")\n",
        "    print(json.dumps(custom_info, indent=4))\n",
        "    \n",
        "    # Add extraction rules to extractor's configuration\n",
        "    for field_name, rule in invoice_rules.items():\n",
        "        if rule['type'] == 'regex':\n",
        "            tesseract_extractor.add_field_extraction_rule(\n",
        "                doc_type='invoice',\n",
        "                field_name=field_name,\n",
        "                rule_type='regex',\n",
        "                pattern=rule['pattern'],\n",
        "                first_match_only=rule.get('first_match_only', True)\n",
        "            )\n",
        "    \n",
        "    # Save extraction configuration\n",
        "    tesseract_extractor.save_config('../models/extraction_config.json')\n",
        "    print(\"Extraction configuration saved.\")\n"
      ]
    }
  ],
  "metadata": {
    "language_info": {
      "name": "python"
    }
  },
  "nbformat": 4,
  "nbformat_minor": 2
}
