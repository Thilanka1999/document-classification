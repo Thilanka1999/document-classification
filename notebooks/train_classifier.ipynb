{
  "cells": [
    {
      "cell_type": "raw",
      "metadata": {
        "vscode": {
          "languageId": "raw"
        }
      },
      "source": [
        "# Document Classification Model Training\n",
        "\n",
        "This notebook demonstrates how to train the document classification model for the Document Classification and Data Extraction system.\n",
        "\n",
        "The model will classify documents into three categories:\n",
        "- Invoice\n",
        "- Resume\n",
        "- Receipt\n"
      ]
    },
    {
      "cell_type": "raw",
      "metadata": {
        "vscode": {
          "languageId": "raw"
        }
      },
      "source": [
        "## Setup and Imports\n"
      ]
    },
    {
      "cell_type": "code",
      "execution_count": null,
      "metadata": {},
      "outputs": [],
      "source": [
        "import os\n",
        "import sys\n",
        "import numpy as np\n",
        "import matplotlib.pyplot as plt\n",
        "from PIL import Image\n",
        "\n",
        "# Add project root directory to path\n",
        "sys.path.append('..')\n",
        "\n",
        "# Import project modules\n",
        "from models.classifier import DocumentClassifier\n",
        "from utils.preprocess import preprocess_for_classification\n"
      ]
    },
    {
      "cell_type": "raw",
      "metadata": {
        "vscode": {
          "languageId": "raw"
        }
      },
      "source": [
        "## Data Preparation\n",
        "\n",
        "The training data should be organized in the following directory structure:\n",
        "\n",
        "```\n",
        "data/\n",
        "  train/\n",
        "    invoice/\n",
        "      invoice_1.jpg\n",
        "      invoice_2.jpg\n",
        "      ...\n",
        "    resume/\n",
        "      resume_1.jpg\n",
        "      resume_2.jpg\n",
        "      ...\n",
        "    receipt/\n",
        "      receipt_1.jpg\n",
        "      receipt_2.jpg\n",
        "      ...\n",
        "```\n"
      ]
    },
    {
      "cell_type": "code",
      "execution_count": null,
      "metadata": {},
      "outputs": [],
      "source": [
        "# Create directories if they don't exist\n",
        "categories = ['invoice', 'resume', 'receipt']\n",
        "\n",
        "for category in categories:\n",
        "    os.makedirs(f'../data/train/{category}', exist_ok=True)\n"
      ]
    },
    {
      "cell_type": "raw",
      "metadata": {
        "vscode": {
          "languageId": "raw"
        }
      },
      "source": [
        "## Initialize Model\n"
      ]
    },
    {
      "cell_type": "code",
      "execution_count": null,
      "metadata": {},
      "outputs": [],
      "source": [
        "# Initialize document classifier\n",
        "classifier = DocumentClassifier(categories=categories)\n"
      ]
    },
    {
      "cell_type": "raw",
      "metadata": {
        "vscode": {
          "languageId": "raw"
        }
      },
      "source": [
        "## Train Model\n",
        "\n",
        "Train the model on the prepared dataset.\n"
      ]
    },
    {
      "cell_type": "code",
      "execution_count": null,
      "metadata": {},
      "outputs": [],
      "source": [
        "# Train model\n",
        "history = classifier.train(\n",
        "    train_dir='../data/train',\n",
        "    epochs=10,\n",
        "    batch_size=32\n",
        ")\n"
      ]
    },
    {
      "cell_type": "raw",
      "metadata": {
        "vscode": {
          "languageId": "raw"
        }
      },
      "source": [
        "## Visualize Training Progress\n"
      ]
    },
    {
      "cell_type": "code",
      "execution_count": null,
      "metadata": {},
      "outputs": [],
      "source": [
        "# Plot training history\n",
        "plt.figure(figsize=(12, 4))\n",
        "\n",
        "plt.subplot(1, 2, 1)\n",
        "plt.plot(history.history['accuracy'])\n",
        "plt.title('Model Accuracy')\n",
        "plt.ylabel('Accuracy')\n",
        "plt.xlabel('Epoch')\n",
        "\n",
        "plt.subplot(1, 2, 2)\n",
        "plt.plot(history.history['loss'])\n",
        "plt.title('Model Loss')\n",
        "plt.ylabel('Loss')\n",
        "plt.xlabel('Epoch')\n",
        "\n",
        "plt.tight_layout()\n",
        "plt.show()\n"
      ]
    },
    {
      "cell_type": "raw",
      "metadata": {
        "vscode": {
          "languageId": "raw"
        }
      },
      "source": [
        "## Fine-tune Model\n",
        "\n",
        "Fine-tune the model by unfreezing some layers.\n"
      ]
    },
    {
      "cell_type": "code",
      "execution_count": null,
      "metadata": {},
      "outputs": [],
      "source": [
        "# Fine-tune model\n",
        "fine_tune_history = classifier.fine_tune(\n",
        "    train_dir='../data/train',\n",
        "    epochs=5,\n",
        "    batch_size=16,\n",
        "    learning_rate=1e-4\n",
        ")\n"
      ]
    },
    {
      "cell_type": "raw",
      "metadata": {
        "vscode": {
          "languageId": "raw"
        }
      },
      "source": [
        "## Visualize Fine-Tuning Progress\n"
      ]
    },
    {
      "cell_type": "code",
      "execution_count": null,
      "metadata": {},
      "outputs": [],
      "source": [
        "# Plot fine-tuning history\n",
        "plt.figure(figsize=(12, 4))\n",
        "\n",
        "plt.subplot(1, 2, 1)\n",
        "plt.plot(fine_tune_history.history['accuracy'])\n",
        "plt.title('Model Accuracy (Fine-tuning)')\n",
        "plt.ylabel('Accuracy')\n",
        "plt.xlabel('Epoch')\n",
        "\n",
        "plt.subplot(1, 2, 2)\n",
        "plt.plot(fine_tune_history.history['loss'])\n",
        "plt.title('Model Loss (Fine-tuning)')\n",
        "plt.ylabel('Loss')\n",
        "plt.xlabel('Epoch')\n",
        "\n",
        "plt.tight_layout()\n",
        "plt.show()\n"
      ]
    },
    {
      "cell_type": "raw",
      "metadata": {
        "vscode": {
          "languageId": "raw"
        }
      },
      "source": [
        "## Save Model\n"
      ]
    },
    {
      "cell_type": "code",
      "execution_count": null,
      "metadata": {},
      "outputs": [],
      "source": [
        "# Save model\n",
        "classifier.save_model('../models/document_classifier.h5')\n"
      ]
    },
    {
      "cell_type": "raw",
      "metadata": {
        "vscode": {
          "languageId": "raw"
        }
      },
      "source": [
        "## Test Model on Sample Images\n"
      ]
    },
    {
      "cell_type": "code",
      "execution_count": null,
      "metadata": {},
      "outputs": [],
      "source": [
        "# Load a sample image for testing\n",
        "# Replace with path to a sample image\n",
        "sample_image_path = '../data/examples/sample_invoice.jpg'\n",
        "\n",
        "# Check if file exists\n",
        "if os.path.exists(sample_image_path):\n",
        "    # Load and preprocess image\n",
        "    image = Image.open(sample_image_path)\n",
        "    \n",
        "    # Display image\n",
        "    plt.figure(figsize=(8, 8))\n",
        "    plt.imshow(image)\n",
        "    plt.axis('off')\n",
        "    plt.title('Sample Document')\n",
        "    plt.show()\n",
        "    \n",
        "    # Predict document type\n",
        "    doc_type, confidence, all_scores = classifier.predict(image)\n",
        "    \n",
        "    print(f\"Predicted document type: {doc_type}\")\n",
        "    print(f\"Confidence: {confidence:.2f}\")\n",
        "    print(\"All scores:\")\n",
        "    for category, score in sorted(all_scores.items(), key=lambda x: x[1], reverse=True):\n",
        "        print(f\"  {category}: {score:.2f}\")\n",
        "else:\n",
        "    print(f\"Sample image not found at '{sample_image_path}'. Please add a sample image for testing.\")\n"
      ]
    }
  ],
  "metadata": {
    "language_info": {
      "name": "python"
    }
  },
  "nbformat": 4,
  "nbformat_minor": 2
}
